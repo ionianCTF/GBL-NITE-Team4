{
  "nbformat": 4,
  "nbformat_minor": 0,
  "metadata": {
    "colab": {
      "provenance": []
    },
    "kernelspec": {
      "name": "python3",
      "display_name": "Python 3"
    },
    "language_info": {
      "name": "python"
    }
  },
  "cells": [
    {
      "cell_type": "code",
      "execution_count": null,
      "metadata": {
        "id": "CpOM4t7_Dj6H"
      },
      "outputs": [],
      "source": []
    },
    {
      "cell_type": "code",
      "source": [
        "#ARCS Calculation\n",
        "import numpy as np\n",
        "\n",
        "# Data arrays\n",
        "attention = np.array([4.25,4.5,4,3.5,5,4.75,3.75,3.5,4.25,4])\n",
        "relevance = np.array([3.5, 4.75, 4, 4, 4.25, 4.75, 4.75, 5, 4, 3])\n",
        "confidence = np.array([3.75, 3.5, 3.25, 3, 3.5, 3.25, 3.25, 3.5, 3.25, 2.75])\n",
        "satisfaction = np.array([4.25, 5, 4, 3.75, 5, 4.75, 4, 4.5, 4, 4.5])\n",
        "perceived_learning = np.array([4, 5, 3, 3.5, 4.75, 4.5, 3, 3.5, 4.75, 3.5])\n",
        "\n",
        "# Function to calculate mean, median, std\n",
        "def calc_stats(arr):\n",
        "    mean = np.mean(arr)\n",
        "    median = np.median(arr)\n",
        "    std = np.std(arr, ddof=1)  # sample std dev\n",
        "    return mean, median, std\n",
        "\n",
        "attention_stats = calc_stats(attention)\n",
        "relevance_stats = calc_stats(relevance)\n",
        "confidence_stats = calc_stats(confidence)\n",
        "satisfaction_stats = calc_stats(satisfaction)\n",
        "perceived_learning_stats = calc_stats(perceived_learning)\n",
        "\n",
        "attention_stats, relevance_stats, confidence_stats, satisfaction_stats, perceived_learning_stats"
      ],
      "metadata": {
        "colab": {
          "base_uri": "https://localhost:8080/"
        },
        "id": "NYB6xAR9Dl0g",
        "outputId": "bab17677-dda0-4d93-9875-39cda13a29ac"
      },
      "execution_count": 9,
      "outputs": [
        {
          "output_type": "execute_result",
          "data": {
            "text/plain": [
              "((np.float64(4.15), np.float64(4.125), np.float64(0.5027701042999452)),\n",
              " (np.float64(4.2), np.float64(4.125), np.float64(0.6324555320336759)),\n",
              " (np.float64(3.3), np.float64(3.25), np.float64(0.2838231060987733)),\n",
              " (np.float64(4.375), np.float64(4.375), np.float64(0.44487826050130463)),\n",
              " (np.float64(3.95), np.float64(3.75), np.float64(0.7527726527090811)))"
            ]
          },
          "metadata": {},
          "execution_count": 9
        }
      ]
    },
    {
      "cell_type": "code",
      "source": [
        "#T-Tests\n",
        "\n",
        "import numpy as np\n",
        "from scipy import stats\n",
        "\n",
        "# Data: question -> (before %, after %)\n",
        "data = {\n",
        "    \"Q1\": (0, 20),\n",
        "    \"Q2\": (10, 10),\n",
        "    \"Q3\": (0, 30),\n",
        "    \"Q4\": (10, 70),\n",
        "    \"Q5\": (10, 30),\n",
        "    \"Q6\": (20, 60),\n",
        "    \"Q7\": (60, 100),\n",
        "    \"Q8\": (30, 30),\n",
        "    \"Q9\": (0, 30),\n",
        "    \"Q10\": (70, 90),\n",
        "    \"Q11\": (0, 80),\n",
        "    \"Q12\": (80, 90),\n",
        "    \"Q13\": (70, 90),\n",
        "}\n",
        "\n",
        "# Define groups\n",
        "groups = {\n",
        "    \"General Cybersecurity Tools\": [\"Q7\", \"Q8\", \"Q12\"],\n",
        "    \"Network Protocols and Ports\": [\"Q2\", \"Q3\", \"Q10\", \"Q13\"],\n",
        "    \"General Knowledge\": [\"Q5\", \"Q6\", \"Q9\"],\n",
        "    \"Advanced Vulnerability Assessment and Penetration Testing Tools\": [\"Q1\", \"Q4\", \"Q11\"],\n",
        "}\n",
        "\n",
        "# Convert % to decimals\n",
        "def to_decimal(pct):\n",
        "    return pct / 100\n",
        "\n",
        "def one_tailed_p(t_stat, two_tailed_p):\n",
        "    # If t_stat > 0, p_one_tailed = two_tailed_p / 2, else 1 - two_tailed_p / 2 (or just 1 because no gain)\n",
        "    if t_stat > 0:\n",
        "        return two_tailed_p / 2\n",
        "    else:\n",
        "        return 1 - two_tailed_p / 2\n",
        "\n",
        "# Overall stats\n",
        "before_all = np.array([to_decimal(data[q][0]) for q in data])\n",
        "after_all = np.array([to_decimal(data[q][1]) for q in data])\n",
        "gain_all = after_all - before_all\n",
        "mean_before_all = np.mean(before_all)\n",
        "mean_after_all = np.mean(after_all)\n",
        "mean_gain_all = np.mean(gain_all)\n",
        "t_stat_all, p_val_one_tailed_all = stats.ttest_rel(after_all, before_all)\n",
        "p_val_one_tailed_all = one_tailed_p(t_stat_all, p_val_one_tailed_all)\n",
        "sd_all = np.std(gain_all, ddof=1)\n",
        "\n",
        "print(f\"Overall: Mean before={mean_before_all*100:.2f}%, after={mean_after_all*100:.2f}%, gain={mean_gain_all*100:.2f}%\")\n",
        "print(f\"t = {t_stat_all:.3f}, SD = {sd_all*100:.2f}%, p (1-tailed) = {p_val_one_tailed_all:.4f}\")\n",
        "\n",
        "# Per group stats\n",
        "for group_name, questions in groups.items():\n",
        "    before = np.array([to_decimal(data[q][0]) for q in questions])\n",
        "    after = np.array([to_decimal(data[q][1]) for q in questions])\n",
        "    gain = after - before\n",
        "    mean_before = np.mean(before)\n",
        "    mean_after = np.mean(after)\n",
        "    mean_gain = np.mean(gain)\n",
        "    sd = np.std(gain, ddof=1)\n",
        "    t_stat, p_val_two_tailed = stats.ttest_rel(after, before)\n",
        "    p_val_one_tailed = one_tailed_p(t_stat, p_val_two_tailed)\n",
        "\n",
        "    print(f\"\\nGroup: {group_name}\")\n",
        "    print(f\"Mean before = {mean_before*100:.2f}%, Mean after = {mean_after*100:.2f}%, Mean gain = {mean_gain*100:.2f}%\")\n",
        "    print(f\"t = {t_stat:.3f}, SD = {sd*100:.2f}%, p (1-tailed) = {p_val_one_tailed:.4f}\")"
      ],
      "metadata": {
        "colab": {
          "base_uri": "https://localhost:8080/"
        },
        "id": "EBi5_Yk1E7ty",
        "outputId": "fafe32dc-610b-4c24-dbb6-33797fbacb8a"
      },
      "execution_count": 10,
      "outputs": [
        {
          "output_type": "stream",
          "name": "stdout",
          "text": [
            "Overall: Mean before=27.69%, after=56.15%, gain=28.46%\n",
            "t = 4.526, SD = 22.67%, p (1-tailed) = 0.0003\n",
            "\n",
            "Group: General Cybersecurity Tools\n",
            "Mean before = 56.67%, Mean after = 73.33%, Mean gain = 16.67%\n",
            "t = 1.387, SD = 20.82%, p (1-tailed) = 0.1499\n",
            "\n",
            "Group: Network Protocols and Ports\n",
            "Mean before = 37.50%, Mean after = 55.00%, Mean gain = 17.50%\n",
            "t = 2.782, SD = 12.58%, p (1-tailed) = 0.0345\n",
            "\n",
            "Group: General Knowledge\n",
            "Mean before = 10.00%, Mean after = 40.00%, Mean gain = 30.00%\n",
            "t = 5.196, SD = 10.00%, p (1-tailed) = 0.0175\n",
            "\n",
            "Group: Advanced Vulnerability Assessment and Penetration Testing Tools\n",
            "Mean before = 3.33%, Mean after = 56.67%, Mean gain = 53.33%\n",
            "t = 3.024, SD = 30.55%, p (1-tailed) = 0.0471\n"
          ]
        }
      ]
    }
  ]
}